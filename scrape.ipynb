{
 "cells": [
  {
   "cell_type": "code",
   "execution_count": null,
   "metadata": {},
   "outputs": [],
   "source": [
    "from bs4 import BeautifulSoup\n",
    "from datetime import datetime, timedelta\n",
    "from sklearn.ensemble import GradientBoostingRegressor\n",
    "from sklearn.model_selection import train_test_split\n",
    "\n",
    "import requests\n",
    "import pandas as pd\n",
    "import re"
   ]
  },
  {
   "cell_type": "code",
   "execution_count": null,
   "metadata": {},
   "outputs": [],
   "source": [
    "dates = pd.date_range(start = \"2023-10-24\", end = datetime.today() - timedelta(days=1))"
   ]
  },
  {
   "cell_type": "markdown",
   "metadata": {},
   "source": [
    "## Using ESPN"
   ]
  },
  {
   "cell_type": "code",
   "execution_count": null,
   "metadata": {},
   "outputs": [],
   "source": [
    "base_link = \"https://www.espn.com\""
   ]
  },
  {
   "cell_type": "code",
   "execution_count": null,
   "metadata": {},
   "outputs": [],
   "source": [
    "base_link = \"https://www.espn.com\"\n",
    "headers = requests.utils.default_headers()\n",
    "headers.update({\n",
    "    'User-Agent': 'Mozilla/5.0 (X11; Ubuntu; Linux x86_64; rv:52.0) Gecko/20100101 Firefox/52.0',\n",
    "})\n",
    "\n",
    "box_scores = pd.DataFrame(columns = [\"MIN\", \"FG\", \"3PT\", \"FT\", \"OREB\", \"DREB\", \"REB\", \"AST\", \"STL\", \"BLK\", \"TO\", \"PF\", \"PLUS_MINUS\", \"PTS\", \"PLAYER_NAME\"])\n",
    "\n",
    "for date in dates:\n",
    "\tdate = date.strftime(\"%Y%m%d\")\n",
    "\tlink = base_link + \"/nba/scoreboard/_/date/\" + date\n",
    "\n",
    "\tpage = requests.get(link, headers=headers)\n",
    "\tsoup = BeautifulSoup(page.content, \"html.parser\")\n",
    "\tgames = soup.find_all(\"section\", class_ = \"Scoreboard\")\n",
    "\tfor game in games:\n",
    "\t\tbox_score_link = game.find_all(\"a\", class_ = \"Button--anchorLink\", href = True)[1]['href']\n",
    "\t\treq = requests.get(base_link + box_score_link, headers=headers)\n",
    "\t\tsoup = BeautifulSoup(req.content, \"html.parser\")\t\n",
    "\t\t\n",
    "\t\tall_players = []\n",
    "\t\tall_statlines = []\n",
    "\t\tteams = []\n",
    "\n",
    "\t\tteam_names = soup.find_all(\"div\", class_ = \"BoxscoreItem__TeamName\")\n",
    "\t\tfor team in team_names:\n",
    "\t\t\tteams.append(team.text.strip())\n",
    "\t\t\t\n",
    "\n",
    "\t\t# Get all the players\n",
    "\t\tplayers = soup.find(\"div\", class_ = \"Boxscore__ResponsiveWrapper\").find_all(\"div\", class_ = \"ResponsiveTable\")\n",
    "\t\tfor i, row in enumerate(players):\n",
    "\t\t\tcolumns = row.find(\"table\", class_ = \"Table\").tbody.find_all(\"td\")\n",
    "\t\t\tfor player in columns[:-2]:\n",
    "\t\t\t\tplayer = player.text.strip()\n",
    "\t\t\t\tif player != \"starters\" and player != \"bench\":\n",
    "\t\t\t\t\tall_players.append(player)\n",
    "\n",
    "\t\t# Get all the statlines\n",
    "\t\tstatlines = soup.find(\"div\", class_ = \"Boxscore__ResponsiveWrapper\").find_all(\"div\", class_ = \"Table__Scroller\")\n",
    "\t\tfor i, row in enumerate(statlines):\n",
    "\t\t\trows = row.find(\"table\", class_ = \"Table\").tbody.find_all(\"tr\")\n",
    "\t\t\tfor i, row in enumerate(rows):\n",
    "\t\t\t\tif i != 0 and i != 6:\n",
    "\t\t\t\t\ttd = row.find_all('td')\n",
    "\t\t\t\t\tdata = [tr.text.strip() for tr in td if tr.text.strip()]\n",
    "\t\t\t\t\tdata.append(date)\n",
    "\t\t\t\t\tif '-' not in data[0] and '%' not in data[0]:\n",
    "\t\t\t\t\t\tall_statlines.append(data)\n",
    "\t\t\t\t\tif \"DNP-\" in data[0]:\n",
    "\t\t\t\t\t\tall_statlines.append([0] * 15)\n",
    "\t\t\n",
    "\t\tfor i, player in enumerate(all_players):\n",
    "\t\t\tall_statlines[i].append(player)\n",
    "\t\t\n",
    "\t\tdf = pd.DataFrame(all_statlines, columns = [\"MIN\", \"FG\", \"3PT\", \"FT\", \"OREB\", \"DREB\", \"REB\", \"AST\", \"STL\", \"BLK\", \"TO\", \"PF\", \"PLUS_MINUS\", \"PTS\", \"DATE\", \"PLAYER_NAME\"])\n",
    "\t\tbox_scores = pd.concat([box_scores, df])"
   ]
  },
  {
   "cell_type": "markdown",
   "metadata": {},
   "source": [
    "## Using Basketball Reference"
   ]
  },
  {
   "cell_type": "code",
   "execution_count": null,
   "metadata": {},
   "outputs": [],
   "source": [
    "base_link = \"https://www.basketball-reference.com\""
   ]
  },
  {
   "cell_type": "code",
   "execution_count": null,
   "metadata": {},
   "outputs": [],
   "source": [
    "columns = [\"PLAYER\", \"MP\", \"FG\", \"FGA\", \"FG%\", \"3P\", \"3PA\", \"3P%\", \"FT\", \"FTA\", \"FT%\", \"ORB\", \"DRB\", \"TRB\", \"AST\", \"STL\", \"BLK\", \"TOV\", \"PF\", \"PTS\", \"+/-\",\n",
    "\"TS%\", \"eFG%\", \"3PAr\", \"FTr\", \"ORB%\", \"DRB%\", \"TRB%\", \"AST%\", \"STL%\", \"BLK%\", \"TOV%\", \"USG%\", \"ORtg\", \"DRtg\", \"BPM\"\n",
    "]\n",
    "\n",
    "box_scores = pd.DataFrame(columns = columns)\n",
    "\n",
    "for date in dates:\n",
    "\tlink = base_link + \"/boxscores/?month={0}&day={1}&year={2}\".format(date.month, date.day, date.year)\n",
    "\t\n",
    "\tpage = requests.get(link)\n",
    "\tsoup = BeautifulSoup(page.content, \"html.parser\")\n",
    "\n",
    "\t# Get all games for the day\n",
    "\tgames = soup.find(\"div\", class_ = \"game_summaries\").find_all(\"table\", class_= \"teams\")\n",
    "\t# Loop through all games to get boxscore link\n",
    "\tfor game in games:\n",
    "\t\t# Dict to store player: stats for appending advanced stats to basic stats\n",
    "\t\tplayer_stats \t= {}\n",
    "\t\tall_players \t= []\n",
    "\t\tall_statlines \t= []\n",
    "\t\tteams \t\t\t= []\n",
    "\n",
    "\t\tboxscore_link = game.find(\"td\", class_ = \"gamelink\").find(\"a\", href = True)['href']\n",
    "\n",
    "\t\t# Access boxscore\n",
    "\t\tpage = requests.get(base_link + boxscore_link)\n",
    "\t\tsoup = BeautifulSoup(page.content, \"html.parser\")\n",
    "\n",
    "\t\t# Get only the tables corresponding to the \"Basic Game\" tab\n",
    "\t\tbasic_tables = soup.find_all(\"table\", class_ = \"sortable\", id = re.compile('game-basic'))\n",
    "\t\tadvanced_tables = soup.find_all(\"table\", class_ = \"sortable\", id = re.compile('game-advanced'))\n",
    "\n",
    "\t\tprint(len(basic_tables))\n",
    "\t\tprint(len(advanced_tables))\n",
    "\n",
    "\t\tfor table in basic_tables:\n",
    "\t\t\trows = table.tbody.find_all(\"tr\")\n",
    "\t\t\tfor i, row in enumerate(rows):\n",
    "\t\t\t\tif row != []:\n",
    "\t\t\t\t\t# Skip Reserves and Team Totals rows\n",
    "\t\t\t\t\tif 'class' in row.attrs:\n",
    "\t\t\t\t\t\t\tcontinue\n",
    "\t\t\t\t\telse:\n",
    "\t\t\t\t\t\t# Collect row data\n",
    "\t\t\t\t\t\tplayer = row.find(\"th\").text.strip()\n",
    "\t\t\t\t\t\trow_data = row.find_all(\"td\")\n",
    "\t\t\t\t\t\tcell_values = [player, *[cell.text.strip() for cell in row_data]]\n",
    "\t\t\t\t\t\t# Do not want to collect data for players who did not play\n",
    "\t\t\t\t\t\tif cell_values[1] == 'Did Not Play':\n",
    "\t\t\t\t\t\t\tcontinue\n",
    "\t\t\t\t\t\tplayer_stats[player] = cell_values\n",
    "\n",
    "\t\tfor table in advanced_tables:\n",
    "\t\t\trows = table.tbody.find_all(\"tr\")\n",
    "\t\t\tfor i, row in enumerate(rows):\n",
    "\t\t\t\tif row != []:\n",
    "\t\t\t\t\t# Skip Reserves and Team Totals rows\n",
    "\t\t\t\t\tif 'class' in row.attrs:\n",
    "\t\t\t\t\t\t\tcontinue\n",
    "\t\t\t\t\telse:\n",
    "\t\t\t\t\t\t# Collect row data\n",
    "\t\t\t\t\t\tplayer = row.find(\"th\").text.strip()\n",
    "\t\t\t\t\t\trow_data = row.find_all(\"td\")\n",
    "\t\t\t\t\t\tcell_values = [cell.text.strip() for cell in row_data]\n",
    "\t\t\t\t\t\t# Do not want to collect data for players who did not play\n",
    "\t\t\t\t\t\tif cell_values[0] == 'Did Not Play' or not player_stats[player]:\n",
    "\t\t\t\t\t\t\tcontinue\n",
    "\t\t\t\t\t\t\n",
    "\t\t\t\t\t\t# We extend the stats to the back of the existing player on that page\n",
    "\t\t\t\t\t\tplayer_stats[player].extend(cell_values[1:])\n",
    "\t\t\n",
    "\t\tfor value in player_stats.values():\n",
    "\t\t\tall_statlines.append(value)\n",
    "\n",
    "\t\tdf = pd.DataFrame(all_statlines, columns = columns)\n",
    "\t\tbox_scores = pd.concat([box_scores, df])\n",
    "\t\tbreak\n",
    "\tbreak\n",
    "\t\t\n",
    "\t\t"
   ]
  },
  {
   "cell_type": "code",
   "execution_count": null,
   "metadata": {},
   "outputs": [],
   "source": [
    "all_statlines"
   ]
  },
  {
   "cell_type": "markdown",
   "metadata": {},
   "source": [
    "## Merge"
   ]
  },
  {
   "cell_type": "code",
   "execution_count": null,
   "metadata": {},
   "outputs": [],
   "source": [
    "box_scores"
   ]
  },
  {
   "cell_type": "code",
   "execution_count": null,
   "metadata": {},
   "outputs": [],
   "source": [
    "X = box_scores[[\"MIN\"]]\n",
    "y = box_scores[\"PTS\"]"
   ]
  },
  {
   "cell_type": "code",
   "execution_count": null,
   "metadata": {},
   "outputs": [],
   "source": [
    "X_train, X_test, y_train, y_test = train_test_split(X, y, test_size= 0.2, random_state=8)"
   ]
  },
  {
   "cell_type": "code",
   "execution_count": null,
   "metadata": {},
   "outputs": [],
   "source": [
    "params = {\"n_estimators\": 500,\n",
    "\t\t\t\"max_depth\": 4,\n",
    "\t\t\t\"min_samples_split\": 5,\n",
    "\t\t\t\"learning_rate\": 0.01,\n",
    "\t\t\t\"loss\": \"squared_error\"}"
   ]
  },
  {
   "cell_type": "code",
   "execution_count": null,
   "metadata": {},
   "outputs": [],
   "source": [
    "reg = GradientBoostingRegressor(**params)\n",
    "reg.fit(X_train, y_train)"
   ]
  },
  {
   "cell_type": "code",
   "execution_count": null,
   "metadata": {},
   "outputs": [],
   "source": [
    "y_pred = reg.predict(X_test)"
   ]
  },
  {
   "cell_type": "code",
   "execution_count": null,
   "metadata": {},
   "outputs": [],
   "source": [
    "compare = pd.DataFrame(list(y_test), columns=[\"Actual Points\"])\n",
    "compare['Predicted Points'] = y_pred.round()\n",
    "compare['Minutes'] = list(X_test['MIN'])"
   ]
  },
  {
   "cell_type": "code",
   "execution_count": null,
   "metadata": {},
   "outputs": [],
   "source": [
    "compare"
   ]
  }
 ],
 "metadata": {
  "kernelspec": {
   "display_name": "Scraping",
   "language": "python",
   "name": "python3"
  },
  "language_info": {
   "codemirror_mode": {
    "name": "ipython",
    "version": 3
   },
   "file_extension": ".py",
   "mimetype": "text/x-python",
   "name": "python",
   "nbconvert_exporter": "python",
   "pygments_lexer": "ipython3",
   "version": "3.10.11"
  }
 },
 "nbformat": 4,
 "nbformat_minor": 2
}
