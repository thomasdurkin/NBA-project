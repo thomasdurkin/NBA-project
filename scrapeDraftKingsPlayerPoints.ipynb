{
 "cells": [
  {
   "cell_type": "code",
   "execution_count": 9,
   "metadata": {},
   "outputs": [],
   "source": [
    "from bs4 import BeautifulSoup\n",
    "from datetime import datetime\n",
    "from databaseConnection import DBConnection\n",
    "\n",
    "import requests\n",
    "import pandas as pd"
   ]
  },
  {
   "cell_type": "code",
   "execution_count": 10,
   "metadata": {},
   "outputs": [],
   "source": [
    "link = \"https://sportsbook.draftkings.com/leagues/basketball/nba?category=player-points\""
   ]
  },
  {
   "cell_type": "code",
   "execution_count": 11,
   "metadata": {},
   "outputs": [],
   "source": [
    "page = requests.get(link)\n",
    "soup = BeautifulSoup(page.content, \"html.parser\")"
   ]
  },
  {
   "cell_type": "code",
   "execution_count": 12,
   "metadata": {},
   "outputs": [],
   "source": [
    "con = DBConnection()"
   ]
  },
  {
   "cell_type": "code",
   "execution_count": 13,
   "metadata": {},
   "outputs": [],
   "source": [
    "date = datetime.today()\n",
    "timestamp = date.strftime(\"%Y%m%d\")"
   ]
  },
  {
   "cell_type": "code",
   "execution_count": 14,
   "metadata": {},
   "outputs": [
    {
     "name": "stdout",
     "output_type": "stream",
     "text": [
      "81 was inserted.\n"
     ]
    }
   ],
   "source": [
    "all_data = soup.find(\"div\", class_ = \"sportsbook-offer-category-card\")\n",
    "tables = all_data.find_all(\"table\")\n",
    "\n",
    "values = []\n",
    "for table in tables:\n",
    "\tplayer_points = table.find_all(\"tr\")\n",
    "\t\n",
    "\tfor i, row in enumerate(player_points):\n",
    "\t\tif i != 0:\n",
    "\t\t\tplayer_name = row.find(\"span\", class_ = \"sportsbook-row-name\").text.strip()\n",
    "\t\t\tplayer_points = row.find(\"span\", class_ = \"sportsbook-outcome-cell__line\").text.strip()\n",
    "\t\t\t\n",
    "\t\t\taddPlayerPointsQuery = (\"INSERT INTO sports\\\n",
    "\t\t\t\t\t\t\t\t\t  (player, points, timestamp)\\\n",
    "\t\t\t \t\t\t\t\t\t  VALUES (%s, %s, %s)\")\n",
    "\t\t\tvalues.append((player_name, player_points, timestamp))\n",
    "\t\t\t\n",
    "con.executeManyQuery(addPlayerPointsQuery, values)\n",
    "con.closeConnection()\n"
   ]
  }
 ],
 "metadata": {
  "kernelspec": {
   "display_name": "Scraping",
   "language": "python",
   "name": "python3"
  },
  "language_info": {
   "codemirror_mode": {
    "name": "ipython",
    "version": 3
   },
   "file_extension": ".py",
   "mimetype": "text/x-python",
   "name": "python",
   "nbconvert_exporter": "python",
   "pygments_lexer": "ipython3",
   "version": "3.12.0"
  }
 },
 "nbformat": 4,
 "nbformat_minor": 2
}
